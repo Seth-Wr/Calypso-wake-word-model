{
 "cells": [
  {
   "cell_type": "code",
   "execution_count": 9,
   "id": "8330f3fc-efd9-4855-8e3c-52e83f09078c",
   "metadata": {},
   "outputs": [],
   "source": [
    "import os, random\n",
    "from gtts import gTTS\n",
    "from pydub import AudioSegment, effects\n",
    "from tqdm import tqdm\n",
    "import numpy as np\n"
   ]
  },
  {
   "cell_type": "code",
   "execution_count": 7,
   "id": "00a99bad-98fc-49fa-8b4f-3159cc385312",
   "metadata": {},
   "outputs": [
    {
     "name": "stdout",
     "output_type": "stream",
     "text": [
      "/Users/sethwright/Documents/audio-model\n"
     ]
    }
   ],
   "source": [
    "cwd = os.getcwd()\n",
    "print(cwd)"
   ]
  },
  {
   "cell_type": "code",
   "execution_count": 10,
   "id": "394f3991-22d7-4c5e-89f0-efd4b30b0618",
   "metadata": {},
   "outputs": [
    {
     "name": "stdout",
     "output_type": "stream",
     "text": [
      "Generating 300 positive 'Hey Chef' samples...\n"
     ]
    },
    {
     "name": "stderr",
     "output_type": "stream",
     "text": [
      "100%|█████████████████████████████████████████| 300/300 [01:23<00:00,  3.61it/s]\n"
     ]
    },
    {
     "name": "stdout",
     "output_type": "stream",
     "text": [
      "Generating 600 negative samples...\n"
     ]
    },
    {
     "name": "stderr",
     "output_type": "stream",
     "text": [
      "100%|█████████████████████████████████████████| 600/600 [02:45<00:00,  3.62it/s]"
     ]
    },
    {
     "name": "stdout",
     "output_type": "stream",
     "text": [
      "✅ Done! Dataset ready in: /Users/sethwright/Documents/audio-model/data\n",
      " - Positive samples: 300\n",
      " - Negative samples: 600\n"
     ]
    },
    {
     "name": "stderr",
     "output_type": "stream",
     "text": [
      "\n"
     ]
    }
   ],
   "source": [
    "# === CONFIGURATION ===\n",
    "OUTPUT_DIR = \"/Users/sethwright/Documents/audio-model/data\"\n",
    "MUSAN_DIR = \"/Users/sethwright/Downloads/musan\"       # root folder of MUSAN dataset\n",
    "N_POS = 300               # number of positive \"Hey Chef\" samples\n",
    "N_NEG = 600               # number of negative samples (mix of hard + random)\n",
    "SAMPLE_RATE = 16000\n",
    "\n",
    "# make directories\n",
    "os.makedirs(f\"{OUTPUT_DIR}/positive\", exist_ok=True)\n",
    "os.makedirs(f\"{OUTPUT_DIR}/negative\", exist_ok=True)\n",
    "\n",
    "# hard negatives\n",
    "HARD_NEGATIVES = [\"Hey chief\", \"Hey Steph\", \"Okay chef\"]\n",
    "# random filler negatives\n",
    "RANDOM_PHRASES = [\n",
    "    \"How are you\", \"Good morning\", \"Turn on the light\", \"Hey there\", \n",
    "    \"Check this out\", \"Let's cook\", \"Hello\", \"Okay\", \"Hey Jeff\", \"What's up\"\n",
    "]\n",
    "\n",
    "def random_speed_change(sound):\n",
    "    speed = random.uniform(0.9, 1.2)\n",
    "    sound = sound._spawn(sound.raw_data, overrides={\n",
    "        \"frame_rate\": int(sound.frame_rate * speed)\n",
    "    })\n",
    "    return sound.set_frame_rate(SAMPLE_RATE)\n",
    "\n",
    "def random_pitch_shift(sound):\n",
    "    semitones = random.uniform(-1.5, 1.5)\n",
    "    new_sr = int(sound.frame_rate * (2.0 ** (semitones / 12.0)))\n",
    "    shifted = sound._spawn(sound.raw_data, overrides={'frame_rate': new_sr})\n",
    "    return shifted.set_frame_rate(SAMPLE_RATE)\n",
    "\n",
    "def get_random_musan_clip():\n",
    "    \"\"\"Pick a random short clip from MUSAN (speech, noise, or music).\"\"\"\n",
    "    subfolders = [\"speech\", \"noise\", \"music\"]\n",
    "    folder = random.choice(subfolders)\n",
    "    full_dir = os.path.join(MUSAN_DIR, folder)\n",
    "    if not os.path.exists(full_dir):\n",
    "        return None\n",
    "    candidates = []\n",
    "    for root, _, files in os.walk(full_dir):\n",
    "        for f in files:\n",
    "            if f.endswith((\".wav\", \".mp3\")):\n",
    "                candidates.append(os.path.join(root, f))\n",
    "    if not candidates:\n",
    "        return None\n",
    "    return random.choice(candidates)\n",
    "\n",
    "def add_noise(sound):\n",
    "    noise_path = get_random_musan_clip()\n",
    "    if not noise_path:\n",
    "        return sound\n",
    "    noise = AudioSegment.from_file(noise_path).set_frame_rate(SAMPLE_RATE).set_channels(1)\n",
    "    if len(noise) > len(sound):\n",
    "        start = random.randint(0, len(noise) - len(sound))\n",
    "        noise = noise[start:start + len(sound)]\n",
    "    else:\n",
    "        noise = noise * (len(sound) // len(noise) + 1)\n",
    "    noise = noise[:len(sound)]\n",
    "    noise = noise - random.randint(8, 20)  # reduce noise volume\n",
    "    return sound.overlay(noise)\n",
    "\n",
    "def synthesize_tts(text, out_path):\n",
    "    tts = gTTS(text=text, lang=\"en\")\n",
    "    temp_path = out_path.replace(\".wav\", \".mp3\")\n",
    "    tts.save(temp_path)\n",
    "    sound = AudioSegment.from_mp3(temp_path).set_channels(1).set_frame_rate(SAMPLE_RATE)\n",
    "    os.remove(temp_path)\n",
    "    # augmentations\n",
    "    if random.random() < 0.7: sound = random_speed_change(sound)\n",
    "    if random.random() < 0.7: sound = random_pitch_shift(sound)\n",
    "    if random.random() < 0.7: sound = add_noise(sound)\n",
    "    if random.random() < 0.3: sound = effects.normalize(sound)\n",
    "    sound.export(out_path, format=\"wav\")\n",
    "\n",
    "# === Generate positives ===\n",
    "print(f\"Generating {N_POS} positive 'Hey Chef' samples...\")\n",
    "for i in tqdm(range(N_POS)):\n",
    "    synthesize_tts(\"Hey Chef\", f\"{OUTPUT_DIR}/positive/heychef_{i}.wav\")\n",
    "\n",
    "# === Generate negatives ===\n",
    "print(f\"Generating {N_NEG} negative samples...\")\n",
    "for i in tqdm(range(N_NEG)):\n",
    "    if random.random() < 0.3:\n",
    "        text = random.choice(HARD_NEGATIVES)\n",
    "    else:\n",
    "        text = random.choice(RANDOM_PHRASES)\n",
    "    synthesize_tts(text, f\"{OUTPUT_DIR}/negative/neg_{i}.wav\")\n",
    "\n",
    "print(\"✅ Done! Dataset ready in:\", os.path.abspath(OUTPUT_DIR))\n",
    "print(f\" - Positive samples: {N_POS}\")\n",
    "print(f\" - Negative samples: {N_NEG}\")"
   ]
  }
 ],
 "metadata": {
  "kernelspec": {
   "display_name": "audio-kernel",
   "language": "python",
   "name": "audio-kernel"
  },
  "language_info": {
   "codemirror_mode": {
    "name": "ipython",
    "version": 3
   },
   "file_extension": ".py",
   "mimetype": "text/x-python",
   "name": "python",
   "nbconvert_exporter": "python",
   "pygments_lexer": "ipython3",
   "version": "3.10.19"
  }
 },
 "nbformat": 4,
 "nbformat_minor": 5
}

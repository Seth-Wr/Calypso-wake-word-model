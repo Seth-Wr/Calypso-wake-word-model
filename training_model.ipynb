{
 "cells": [
  {
   "cell_type": "code",
   "execution_count": 7,
   "id": "bfdbac48-ca16-494e-b6cd-ccb8c1c56a63",
   "metadata": {
    "jupyter": {
     "source_hidden": true
    }
   },
   "outputs": [],
   "source": [
    "import os\n",
    "import random\n",
    "import glob\n",
    "import numpy as np\n",
    "import tensorflow as tf\n",
    "import soundfile as sf\n",
    "from sklearn.utils import class_weight\n",
    "from sklearn.model_selection import train_test_split\n",
    "from pathlib import Path"
   ]
  },
  {
   "cell_type": "code",
   "execution_count": 9,
   "id": "d92b3948-bc0b-4409-ac5e-c3af0a12385a",
   "metadata": {
    "jupyter": {
     "source_hidden": true
    }
   },
   "outputs": [],
   "source": [
    "\"\"\"\n",
    "train_wakeword.py\n",
    "\n",
    "Usage:\n",
    "    python train_wakeword.py\n",
    "\n",
    "\n",
    "Notes:\n",
    "- Assumes data/positive/*.wav and data/negative/*.wav exist (16 kHz mono but code will resample/pad if needed).\n",
    "- Adjust hyperparameters like N_EPOCHS, BATCH_SIZE, NUM_MELS to taste.\n",
    "\"\"\"\n",
    "\n",
    "# -----------------------\n",
    "# CONFIG\n",
    "# -----------------------\n",
    "SAMPLE_RATE = 16000\n",
    "DURATION_SECONDS = 1.25             # ≈1.25 s\n",
    "NUM_SAMPLES = int(SAMPLE_RATE * DURATION_SECONDS)  # 20000\n",
    "NUM_MELS = 40\n",
    "FRAME_LENGTH = 512\n",
    "FRAME_STEP = 160                    # 10 ms step\n",
    "FFT_LENGTH = 512\n",
    "FMIN = 80.0\n",
    "FMAX = 7600.0\n",
    "\n",
    "BATCH_SIZE = 32\n",
    "N_EPOCHS = 50\n",
    "SEED = 42\n",
    "AUTOTUNE = tf.data.AUTOTUNE\n",
    "\n",
    "DATA_DIR = \"/Users/sethwright/Documents/audio-model/data\"\n",
    "POS_DIR = os.path.join(DATA_DIR, \"positive\")\n",
    "NEG_DIR = os.path.join(DATA_DIR, \"negative\")\n",
    "\n",
    "OUT_DIR = \"output\"\n",
    "os.makedirs(OUT_DIR, exist_ok=True)\n",
    "\n"
   ]
  },
  {
   "cell_type": "code",
   "execution_count": 10,
   "id": "15113e0e-a209-4924-967a-2aeef344638f",
   "metadata": {
    "jupyter": {
     "source_hidden": true
    }
   },
   "outputs": [
    {
     "name": "stdout",
     "output_type": "stream",
     "text": [
      "Files: total=2712  train=2074  val=231  test=407\n",
      "Computed class weights: {0: 0.5822571588994947, 1: 3.539249146757679}\n"
     ]
    }
   ],
   "source": [
    "def load_and_fix_length(path, target_sr=SAMPLE_RATE, target_len=NUM_SAMPLES):\n",
    "    wav, sr = sf.read(path, dtype='float32')\n",
    "    if wav.ndim > 1:\n",
    "        wav = np.mean(wav, axis=1)\n",
    "    if sr != target_sr:\n",
    "        wav = tf.signal.resample(wav, int(len(wav) * target_sr / sr)).numpy()\n",
    "    if len(wav) > target_len:\n",
    "        start = random.randint(0, len(wav) - target_len)\n",
    "        wav = wav[start:start + target_len]\n",
    "    elif len(wav) < target_len:\n",
    "        pad = target_len - len(wav)\n",
    "        left = pad // 2\n",
    "        right = pad - left\n",
    "        wav = np.pad(wav, (left, right), mode='constant')\n",
    "    return wav.astype(np.float32)\n",
    "\n",
    "def waveform_to_log_mel(waveform):\n",
    "    x = tf.convert_to_tensor(waveform, dtype=tf.float32)\n",
    "    x = tf.reshape(x, [NUM_SAMPLES])\n",
    "    x = tf.concat([x[:1], x[1:] - 0.97 * x[:-1]], 0)\n",
    "    stft = tf.signal.stft(\n",
    "        x, frame_length=FRAME_LENGTH, frame_step=FRAME_STEP,\n",
    "        fft_length=FFT_LENGTH, window_fn=tf.signal.hann_window)\n",
    "    mag = tf.abs(stft)\n",
    "    num_spectrogram_bins = mag.shape[-1]\n",
    "    mel_weight = tf.signal.linear_to_mel_weight_matrix(\n",
    "        NUM_MELS, num_spectrogram_bins, SAMPLE_RATE, FMIN, FMAX)\n",
    "    mel = tf.matmul(mag, mel_weight)\n",
    "    log_mel = tf.math.log(mel + 1e-6)\n",
    "    mean = tf.math.reduce_mean(log_mel)\n",
    "    std = tf.math.reduce_std(log_mel) + 1e-6\n",
    "    log_mel = (log_mel - mean) / std\n",
    "    return log_mel  # (time, mels)\n",
    "\n",
    "# -----------------------\n",
    "# DATA SPLIT\n",
    "# -----------------------\n",
    "pos_files = sorted(glob.glob(os.path.join(POS_DIR, \"*.wav\")))\n",
    "neg_files = sorted(glob.glob(os.path.join(NEG_DIR, \"*.wav\")))\n",
    "\n",
    "if not pos_files or not neg_files:\n",
    "    raise SystemExit(f\"Need .wav files in {POS_DIR} and {NEG_DIR}.\")\n",
    "\n",
    "all_files = pos_files + neg_files\n",
    "all_labels = [1]*len(pos_files) + [0]*len(neg_files)\n",
    "\n",
    "train_files, test_files, train_labels, test_labels = train_test_split(\n",
    "    all_files, all_labels, test_size=0.15, stratify=all_labels, random_state=SEED)\n",
    "train_files, val_files, train_labels, val_labels = train_test_split(\n",
    "    train_files, train_labels, test_size=0.1, stratify=train_labels, random_state=SEED)\n",
    "\n",
    "print(f\"Files: total={len(all_files)}  train={len(train_files)}  val={len(val_files)}  test={len(test_files)}\")\n",
    "\n",
    "# -----------------------\n",
    "# TF DATASET PIPELINE\n",
    "# -----------------------\n",
    "def gen(files, labels):\n",
    "    for p, l in zip(files, labels):\n",
    "        yield p.encode(\"utf-8\"), np.int64(l)\n",
    "\n",
    "def _parse(path_bytes, label):\n",
    "    path = path_bytes.numpy().decode(\"utf-8\")\n",
    "    wav = load_and_fix_length(path)\n",
    "    spec = waveform_to_log_mel(wav).numpy()\n",
    "    spec = np.expand_dims(spec, axis=-1).astype(np.float32)\n",
    "    return spec, label\n",
    "\n",
    "def tf_parse(path, label):\n",
    "    spec, lab = tf.py_function(_parse, [path, label], [tf.float32, tf.int64])\n",
    "    time_frames = 1 + (NUM_SAMPLES - FRAME_LENGTH) // FRAME_STEP\n",
    "    spec.set_shape([time_frames, NUM_MELS, 1])\n",
    "    lab.set_shape([])\n",
    "    return spec, lab\n",
    "\n",
    "def make_dataset(files, labels, shuffle=False):\n",
    "    ds = tf.data.Dataset.from_generator(\n",
    "        lambda: gen(files, labels),\n",
    "        output_signature=(\n",
    "            tf.TensorSpec(shape=(), dtype=tf.string),\n",
    "            tf.TensorSpec(shape=(), dtype=tf.int64)))\n",
    "    if shuffle:\n",
    "        ds = ds.shuffle(buffer_size=len(files), seed=SEED)\n",
    "    ds = ds.map(tf_parse, num_parallel_calls=AUTOTUNE)\n",
    "    ds = ds.batch(BATCH_SIZE).prefetch(AUTOTUNE)\n",
    "    return ds\n",
    "\n",
    "train_ds = make_dataset(train_files, train_labels, shuffle=True)\n",
    "val_ds = make_dataset(val_files, val_labels)\n",
    "test_ds = make_dataset(test_files, test_labels)\n",
    "# Extract all labels from train_ds into a flat array\n",
    "y_train_all = np.concatenate([y.numpy() for _, y in train_ds])\n",
    "\n",
    "# Compute weights inversely proportional to class frequency\n",
    "class_weights = class_weight.compute_class_weight(\n",
    "    class_weight='balanced',\n",
    "    classes=np.unique(y_train_all),\n",
    "    y=y_train_all\n",
    ")\n",
    "\n",
    "# Convert to dictionary for Keras\n",
    "class_weights = dict(enumerate(class_weights))\n",
    "print(\"Computed class weights:\", class_weights)\n"
   ]
  },
  {
   "cell_type": "code",
   "execution_count": 11,
   "id": "4c869930-597d-484c-864e-6a71387d6004",
   "metadata": {},
   "outputs": [
    {
     "name": "stderr",
     "output_type": "stream",
     "text": [
      "WARNING:absl:At this time, the v2.11+ optimizer `tf.keras.optimizers.Adam` runs slowly on M1/M2 Macs, please use the legacy Keras optimizer instead, located at `tf.keras.optimizers.legacy.Adam`.\n",
      "WARNING:absl:There is a known slowdown when using v2.11+ Keras optimizers on M1/M2 Macs. Falling back to the legacy Keras optimizer, i.e., `tf.keras.optimizers.legacy.Adam`.\n"
     ]
    },
    {
     "name": "stdout",
     "output_type": "stream",
     "text": [
      "Model: \"model_2\"\n",
      "_________________________________________________________________\n",
      " Layer (type)                Output Shape              Param #   \n",
      "=================================================================\n",
      " input_3 (InputLayer)        [(None, 122, 40, 1)]      0         \n",
      "                                                                 \n",
      " conv2d_6 (Conv2D)           (None, 122, 40, 8)        80        \n",
      "                                                                 \n",
      " batch_normalization_6 (Bat  (None, 122, 40, 8)        32        \n",
      " chNormalization)                                                \n",
      "                                                                 \n",
      " max_pooling2d_6 (MaxPoolin  (None, 61, 20, 8)         0         \n",
      " g2D)                                                            \n",
      "                                                                 \n",
      " conv2d_7 (Conv2D)           (None, 61, 20, 16)        1168      \n",
      "                                                                 \n",
      " batch_normalization_7 (Bat  (None, 61, 20, 16)        64        \n",
      " chNormalization)                                                \n",
      "                                                                 \n",
      " max_pooling2d_7 (MaxPoolin  (None, 30, 10, 16)        0         \n",
      " g2D)                                                            \n",
      "                                                                 \n",
      " conv2d_8 (Conv2D)           (None, 30, 10, 32)        4640      \n",
      "                                                                 \n",
      " batch_normalization_8 (Bat  (None, 30, 10, 32)        128       \n",
      " chNormalization)                                                \n",
      "                                                                 \n",
      " max_pooling2d_8 (MaxPoolin  (None, 15, 5, 32)         0         \n",
      " g2D)                                                            \n",
      "                                                                 \n",
      " global_average_pooling2d_2  (None, 32)                0         \n",
      "  (GlobalAveragePooling2D)                                       \n",
      "                                                                 \n",
      " dense_4 (Dense)             (None, 64)                2112      \n",
      "                                                                 \n",
      " dropout_2 (Dropout)         (None, 64)                0         \n",
      "                                                                 \n",
      " dense_5 (Dense)             (None, 1)                 65        \n",
      "                                                                 \n",
      "=================================================================\n",
      "Total params: 8289 (32.38 KB)\n",
      "Trainable params: 8177 (31.94 KB)\n",
      "Non-trainable params: 112 (448.00 Byte)\n",
      "_________________________________________________________________\n",
      "Epoch 1/50\n",
      "     65/Unknown - 12s 173ms/step - loss: 0.4000 - accuracy: 0.8611 - auc: 0.8392INFO:tensorflow:Assets written to: output/best_model/assets\n"
     ]
    },
    {
     "name": "stderr",
     "output_type": "stream",
     "text": [
      "INFO:tensorflow:Assets written to: output/best_model/assets\n"
     ]
    },
    {
     "name": "stdout",
     "output_type": "stream",
     "text": [
      "65/65 [==============================] - 13s 200ms/step - loss: 0.4000 - accuracy: 0.8611 - auc: 0.8392 - val_loss: 0.6188 - val_accuracy: 0.8528 - val_auc: 0.5738\n",
      "Epoch 2/50\n",
      "65/65 [==============================] - ETA: 0s - loss: 0.2714 - accuracy: 0.8877 - auc: 0.9467INFO:tensorflow:Assets written to: output/best_model/assets\n"
     ]
    },
    {
     "name": "stderr",
     "output_type": "stream",
     "text": [
      "INFO:tensorflow:Assets written to: output/best_model/assets\n"
     ]
    },
    {
     "name": "stdout",
     "output_type": "stream",
     "text": [
      "65/65 [==============================] - 13s 198ms/step - loss: 0.2714 - accuracy: 0.8877 - auc: 0.9467 - val_loss: 0.4758 - val_accuracy: 0.8571 - val_auc: 0.7214\n",
      "Epoch 3/50\n",
      "65/65 [==============================] - ETA: 0s - loss: 0.2153 - accuracy: 0.9306 - auc: 0.9649INFO:tensorflow:Assets written to: output/best_model/assets\n"
     ]
    },
    {
     "name": "stderr",
     "output_type": "stream",
     "text": [
      "INFO:tensorflow:Assets written to: output/best_model/assets\n"
     ]
    },
    {
     "name": "stdout",
     "output_type": "stream",
     "text": [
      "65/65 [==============================] - 13s 197ms/step - loss: 0.2153 - accuracy: 0.9306 - auc: 0.9649 - val_loss: 0.3299 - val_accuracy: 0.8615 - val_auc: 0.8607\n",
      "Epoch 4/50\n",
      "65/65 [==============================] - ETA: 0s - loss: 0.1504 - accuracy: 0.9561 - auc: 0.9836INFO:tensorflow:Assets written to: output/best_model/assets\n"
     ]
    },
    {
     "name": "stderr",
     "output_type": "stream",
     "text": [
      "INFO:tensorflow:Assets written to: output/best_model/assets\n"
     ]
    },
    {
     "name": "stdout",
     "output_type": "stream",
     "text": [
      "65/65 [==============================] - 13s 196ms/step - loss: 0.1504 - accuracy: 0.9561 - auc: 0.9836 - val_loss: 0.2526 - val_accuracy: 0.8961 - val_auc: 0.9129\n",
      "Epoch 5/50\n",
      "65/65 [==============================] - ETA: 0s - loss: 0.1498 - accuracy: 0.9547 - auc: 0.9814INFO:tensorflow:Assets written to: output/best_model/assets\n"
     ]
    },
    {
     "name": "stderr",
     "output_type": "stream",
     "text": [
      "INFO:tensorflow:Assets written to: output/best_model/assets\n"
     ]
    },
    {
     "name": "stdout",
     "output_type": "stream",
     "text": [
      "65/65 [==============================] - 13s 197ms/step - loss: 0.1498 - accuracy: 0.9547 - auc: 0.9814 - val_loss: 0.2182 - val_accuracy: 0.9004 - val_auc: 0.9591\n",
      "Epoch 6/50\n",
      "65/65 [==============================] - 13s 192ms/step - loss: 0.1191 - accuracy: 0.9629 - auc: 0.9886 - val_loss: 0.2932 - val_accuracy: 0.8745 - val_auc: 0.9625\n",
      "Epoch 7/50\n",
      "65/65 [==============================] - ETA: 0s - loss: 0.1117 - accuracy: 0.9682 - auc: 0.9827INFO:tensorflow:Assets written to: output/best_model/assets\n"
     ]
    },
    {
     "name": "stderr",
     "output_type": "stream",
     "text": [
      "INFO:tensorflow:Assets written to: output/best_model/assets\n"
     ]
    },
    {
     "name": "stdout",
     "output_type": "stream",
     "text": [
      "65/65 [==============================] - 13s 199ms/step - loss: 0.1117 - accuracy: 0.9682 - auc: 0.9827 - val_loss: 0.2146 - val_accuracy: 0.9221 - val_auc: 0.9563\n",
      "Epoch 8/50\n",
      "65/65 [==============================] - 13s 191ms/step - loss: 0.0884 - accuracy: 0.9754 - auc: 0.9925 - val_loss: 0.3043 - val_accuracy: 0.8918 - val_auc: 0.9443\n",
      "Epoch 9/50\n",
      "65/65 [==============================] - ETA: 0s - loss: 0.0961 - accuracy: 0.9740 - auc: 0.9905INFO:tensorflow:Assets written to: output/best_model/assets\n"
     ]
    },
    {
     "name": "stderr",
     "output_type": "stream",
     "text": [
      "INFO:tensorflow:Assets written to: output/best_model/assets\n"
     ]
    },
    {
     "name": "stdout",
     "output_type": "stream",
     "text": [
      "65/65 [==============================] - 13s 197ms/step - loss: 0.0961 - accuracy: 0.9740 - auc: 0.9905 - val_loss: 0.1619 - val_accuracy: 0.9481 - val_auc: 0.9568\n",
      "Epoch 10/50\n",
      "65/65 [==============================] - ETA: 0s - loss: 0.0762 - accuracy: 0.9788 - auc: 0.9946INFO:tensorflow:Assets written to: output/best_model/assets\n"
     ]
    },
    {
     "name": "stderr",
     "output_type": "stream",
     "text": [
      "INFO:tensorflow:Assets written to: output/best_model/assets\n"
     ]
    },
    {
     "name": "stdout",
     "output_type": "stream",
     "text": [
      "65/65 [==============================] - 13s 198ms/step - loss: 0.0762 - accuracy: 0.9788 - auc: 0.9946 - val_loss: 0.1171 - val_accuracy: 0.9654 - val_auc: 0.9663\n",
      "Epoch 11/50\n",
      "65/65 [==============================] - 13s 192ms/step - loss: 0.0767 - accuracy: 0.9817 - auc: 0.9940 - val_loss: 0.1176 - val_accuracy: 0.9697 - val_auc: 0.9690\n",
      "Epoch 12/50\n",
      "65/65 [==============================] - 13s 192ms/step - loss: 0.0638 - accuracy: 0.9802 - auc: 0.9972 - val_loss: 0.1201 - val_accuracy: 0.9610 - val_auc: 0.9697\n",
      "Epoch 13/50\n",
      "65/65 [==============================] - 13s 191ms/step - loss: 0.0523 - accuracy: 0.9851 - auc: 0.9966 - val_loss: 0.1732 - val_accuracy: 0.9524 - val_auc: 0.9530\n",
      "Epoch 14/50\n",
      "65/65 [==============================] - 13s 190ms/step - loss: 0.0567 - accuracy: 0.9836 - auc: 0.9959 - val_loss: 0.1329 - val_accuracy: 0.9567 - val_auc: 0.9573\n",
      "Epoch 15/50\n",
      "65/65 [==============================] - 15s 222ms/step - loss: 0.0511 - accuracy: 0.9855 - auc: 0.9952 - val_loss: 0.1250 - val_accuracy: 0.9654 - val_auc: 0.9607\n",
      "Epoch 16/50\n",
      "65/65 [==============================] - 14s 210ms/step - loss: 0.0469 - accuracy: 0.9875 - auc: 0.9967 - val_loss: 0.1511 - val_accuracy: 0.9567 - val_auc: 0.9597\n",
      "Epoch 17/50\n",
      "65/65 [==============================] - 14s 208ms/step - loss: 0.0427 - accuracy: 0.9894 - auc: 0.9970 - val_loss: 0.1770 - val_accuracy: 0.9610 - val_auc: 0.9333\n",
      "Epoch 18/50\n",
      "65/65 [==============================] - 14s 216ms/step - loss: 0.0329 - accuracy: 0.9908 - auc: 0.9992 - val_loss: 0.1343 - val_accuracy: 0.9567 - val_auc: 0.9733\n",
      "Epoch 19/50\n",
      "65/65 [==============================] - 13s 205ms/step - loss: 0.0450 - accuracy: 0.9879 - auc: 0.9951 - val_loss: 0.1605 - val_accuracy: 0.9524 - val_auc: 0.9562\n",
      "Epoch 20/50\n",
      "65/65 [==============================] - 15s 224ms/step - loss: 0.0406 - accuracy: 0.9913 - auc: 0.9972 - val_loss: 0.1353 - val_accuracy: 0.9610 - val_auc: 0.9601\n",
      "\n",
      "Evaluation on test set:\n",
      "13/13 [==============================] - 2s 158ms/step - loss: 0.0566 - accuracy: 0.9853 - auc: 0.9966\n",
      "Test results (loss, accuracy, auc): [0.056574806571006775, 0.9852579832077026, 0.9965912103652954]\n",
      "1/1 [==============================] - 0s 50ms/step\n",
      "1/1 [==============================] - 0s 18ms/step\n",
      "1/1 [==============================] - 0s 16ms/step\n",
      "1/1 [==============================] - 0s 17ms/step\n",
      "1/1 [==============================] - 0s 19ms/step\n",
      "1/1 [==============================] - 0s 19ms/step\n",
      "1/1 [==============================] - 0s 19ms/step\n",
      "1/1 [==============================] - 0s 18ms/step\n",
      "1/1 [==============================] - 0s 17ms/step\n",
      "1/1 [==============================] - 0s 20ms/step\n",
      "1/1 [==============================] - 0s 16ms/step\n",
      "1/1 [==============================] - 0s 18ms/step\n",
      "1/1 [==============================] - 0s 38ms/step\n",
      "\n",
      "Confusion Matrix:\n",
      "[[347   2]\n",
      " [  5  53]]\n",
      "\n",
      "Classification Report:\n",
      "              precision    recall  f1-score   support\n",
      "\n",
      "           0     0.9858    0.9943    0.9900       349\n",
      "           1     0.9636    0.9138    0.9381        58\n",
      "\n",
      "    accuracy                         0.9828       407\n",
      "   macro avg     0.9747    0.9540    0.9640       407\n",
      "weighted avg     0.9826    0.9828    0.9826       407\n",
      "\n",
      "✅ Exported TensorFlow SavedModel to: output/saved_model.keras\n"
     ]
    }
   ],
   "source": [
    "\n",
    "# -----------------------\n",
    "# MODEL\n",
    "# -----------------------\n",
    "time_frames = 1 + (NUM_SAMPLES - FRAME_LENGTH) // FRAME_STEP\n",
    "input_shape = (time_frames, NUM_MELS, 1)\n",
    "\n",
    "def build_model(input_shape):\n",
    "    inputs = tf.keras.Input(shape=input_shape)\n",
    "    x = tf.keras.layers.Conv2D(8, (3,3), padding='same', activation='relu')(inputs)\n",
    "    x = tf.keras.layers.BatchNormalization()(x)\n",
    "    x = tf.keras.layers.MaxPool2D((2,2))(x)\n",
    "\n",
    "    x = tf.keras.layers.Conv2D(16, (3,3), padding='same', activation='relu')(x)\n",
    "    x = tf.keras.layers.BatchNormalization()(x)\n",
    "    x = tf.keras.layers.MaxPool2D((2,2))(x)\n",
    "\n",
    "    x = tf.keras.layers.Conv2D(32, (3,3), padding='same', activation='relu')(x)\n",
    "    x = tf.keras.layers.BatchNormalization()(x)\n",
    "    x = tf.keras.layers.MaxPool2D((2,2))(x)\n",
    "\n",
    "    x = tf.keras.layers.GlobalAveragePooling2D()(x)\n",
    "    x = tf.keras.layers.Dense(64, activation='relu')(x)\n",
    "    x = tf.keras.layers.Dropout(0.3)(x)\n",
    "    outputs = tf.keras.layers.Dense(1, activation='sigmoid')(x)\n",
    "    return tf.keras.Model(inputs, outputs)\n",
    "\n",
    "model = build_model(input_shape)\n",
    "model.compile(optimizer=tf.keras.optimizers.Adam(1e-3),\n",
    "              loss='binary_crossentropy',\n",
    "              metrics=['accuracy', tf.keras.metrics.AUC(name='auc')])\n",
    "model.summary()\n",
    "\n",
    "# -----------------------\n",
    "# TRAIN\n",
    "# -----------------------\n",
    "# -----------------------\n",
    "# TRAIN\n",
    "# -----------------------\n",
    "callbacks = [\n",
    "    tf.keras.callbacks.EarlyStopping(\n",
    "        monitor='val_loss',\n",
    "        patience=10,\n",
    "        restore_best_weights=True\n",
    "    ),\n",
    "\n",
    "    # ✅ Updated to save in .keras format (no unsupported args)\n",
    "    tf.keras.callbacks.ModelCheckpoint(\n",
    "        filepath=os.path.join(OUT_DIR, \"best_model\"),\n",
    "        monitor='val_loss',\n",
    "        save_best_only=True,\n",
    "        save_weights_only=False,   # must be False to save full model\n",
    "    )\n",
    "]\n",
    "class_weights = {0: 2.0, 1: 1.0}\n",
    "\n",
    "history = model.fit(\n",
    "    train_ds,\n",
    "    validation_data=val_ds,\n",
    "    epochs=N_EPOCHS,\n",
    "    callbacks=callbacks,\n",
    "    class_weight=class_weights\n",
    ")\n",
    "\n",
    "# -----------------------\n",
    "# EVALUATE\n",
    "# -----------------------\n",
    "print(\"\\nEvaluation on test set:\")\n",
    "res = model.evaluate(test_ds)\n",
    "print(\"Test results (loss, accuracy, auc):\", res)\n",
    "\n",
    "y_true, y_pred = [], []\n",
    "for x_batch, y_batch in test_ds:\n",
    "    preds = model.predict(x_batch)\n",
    "    y_true.extend(y_batch.numpy())\n",
    "    y_pred.extend(preds.flatten())\n",
    "\n",
    "y_pred_bin = [1 if p >= 0.5 else 0 for p in y_pred]\n",
    "from sklearn.metrics import confusion_matrix, classification_report\n",
    "print(\"\\nConfusion Matrix:\")\n",
    "print(confusion_matrix(y_true, y_pred_bin))\n",
    "print(\"\\nClassification Report:\")\n",
    "print(classification_report(y_true, y_pred_bin, digits=4))\n",
    "\n",
    "# -----------------------\n",
    "# SAVE MODELS\n",
    "# -----------------------\n",
    "saved_model_dir = os.path.join(OUT_DIR, \"saved_model.keras\")\n",
    "model.save(saved_model_dir)  # ✅ new API for TensorFlow SavedModel export\n",
    "print(\"✅ Exported TensorFlow SavedModel to:\", saved_model_dir)\n",
    "\n",
    "\n"
   ]
  },
  {
   "cell_type": "code",
   "execution_count": null,
   "id": "4716470c-bd8e-4a3f-b0fa-43277bfca42f",
   "metadata": {},
   "outputs": [],
   "source": [
    "# -----------------------\n",
    "# CONVERT TO TFLITE (INT8)\n",
    "# -----------------------\n",
    "def representative_dataset_gen():\n",
    "    for i, path in enumerate(train_files[:200]):\n",
    "        wav = load_and_fix_length(path)\n",
    "        spec = waveform_to_log_mel(wav).numpy().astype(np.float32)\n",
    "        spec = np.expand_dims(spec, (0, -1))\n",
    "        yield [spec]\n",
    "\n",
    "converter = tf.lite.TFLiteConverter.from_saved_model(saved_model_dir)\n",
    "converter.optimizations = [tf.lite.Optimize.DEFAULT]\n",
    "converter.representative_dataset = representative_dataset_gen\n",
    "converter.target_spec.supported_ops = [tf.lite.OpsSet.TFLITE_BUILTINS_INT8]\n",
    "converter.inference_input_type = tf.int8\n",
    "converter.inference_output_type = tf.int8\n",
    "\n",
    "tflite_model = converter.convert()\n",
    "tflite_path = os.path.join(OUT_DIR, \"heychef_int8.tflite\")\n",
    "with open(tflite_path, \"wb\") as f:\n",
    "    f.write(tflite_model)\n",
    "print(\"Saved quantized TFLite model to:\", tflite_path)\n",
    "\n",
    "print(\"\\n✅ All done. Models and logs are in:\", OUT_DIR)"
   ]
  },
  {
   "cell_type": "code",
   "execution_count": null,
   "id": "5b0cc678-959e-422f-b803-06ddda8aa92c",
   "metadata": {},
   "outputs": [],
   "source": [
    "# -----------------------\n",
    "# CONVERT TO TFLITE (FLOAT32)\n",
    "# -----------------------\n",
    "converter = tf.lite.TFLiteConverter.from_saved_model(saved_model_dir)\n",
    "\n",
    "# Keep it as float32 for now (no quantization)\n",
    "converter.optimizations = []  # no quantization\n",
    "converter.target_spec.supported_ops = [tf.lite.OpsSet.TFLITE_BUILTINS]\n",
    "\n",
    "tflite_model = converter.convert()\n",
    "\n",
    "tflite_path = os.path.join(OUT_DIR, \"heychef_float32.tflite\")\n",
    "with open(tflite_path, \"wb\") as f:\n",
    "    f.write(tflite_model)\n",
    "\n",
    "print(\"✅ Saved FLOAT32 TFLite model to:\", tflite_path)"
   ]
  }
 ],
 "metadata": {
  "kernelspec": {
   "display_name": "audio-kernel",
   "language": "python",
   "name": "audio-kernel"
  },
  "language_info": {
   "codemirror_mode": {
    "name": "ipython",
    "version": 3
   },
   "file_extension": ".py",
   "mimetype": "text/x-python",
   "name": "python",
   "nbconvert_exporter": "python",
   "pygments_lexer": "ipython3",
   "version": "3.10.19"
  }
 },
 "nbformat": 4,
 "nbformat_minor": 5
}
